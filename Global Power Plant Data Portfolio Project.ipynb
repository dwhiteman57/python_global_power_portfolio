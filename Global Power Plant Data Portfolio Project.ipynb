{
 "cells": [
  {
   "cell_type": "markdown",
   "id": "a9527069",
   "metadata": {},
   "source": [
    "# Analyze Global Power Plant Data - Python Data Science Portfolio Project\n",
    "\n",
    "Objectives:\n",
    "- Use pandas to clean and prepare data for exploration and analysis\n",
    "- Apply aggregation, merges, and other data science techniques to answer data questions\n",
    "- Report key findings\n",
    "\n",
    "### Questions:\n",
    "- What are the countries with the most amount of power plants and the least amount of power plants? \n",
    "- What is the most popuar fuel type?\n",
    "- Looking at comissioning year data, how has the fuel type changed?"
   ]
  },
  {
   "cell_type": "markdown",
   "id": "2e18569a",
   "metadata": {},
   "source": [
    "## Load and Inspect the data\n",
    "Load the data into a Pandas dataframe and preview the data sets."
   ]
  },
  {
   "cell_type": "code",
   "execution_count": 154,
   "id": "a20637b0",
   "metadata": {},
   "outputs": [
    {
     "name": "stdout",
     "output_type": "stream",
     "text": [
      "<class 'pandas.core.frame.DataFrame'>\n",
      "RangeIndex: 34936 entries, 0 to 34935\n",
      "Data columns (total 36 columns):\n",
      " #   Column                          Non-Null Count  Dtype  \n",
      "---  ------                          --------------  -----  \n",
      " 0   country                         34936 non-null  object \n",
      " 1   country_long                    34936 non-null  object \n",
      " 2   name                            34936 non-null  object \n",
      " 3   gppd_idnr                       34936 non-null  object \n",
      " 4   capacity_mw                     34936 non-null  float64\n",
      " 5   latitude                        34936 non-null  float64\n",
      " 6   longitude                       34936 non-null  float64\n",
      " 7   primary_fuel                    34936 non-null  object \n",
      " 8   other_fuel1                     1944 non-null   object \n",
      " 9   other_fuel2                     276 non-null    object \n",
      " 10  other_fuel3                     92 non-null     object \n",
      " 11  commissioning_year              17447 non-null  float64\n",
      " 12  owner                           20868 non-null  object \n",
      " 13  source                          34921 non-null  object \n",
      " 14  url                             34918 non-null  object \n",
      " 15  geolocation_source              34517 non-null  object \n",
      " 16  wepp_id                         16234 non-null  object \n",
      " 17  year_of_capacity_data           14887 non-null  float64\n",
      " 18  generation_gwh_2013             6417 non-null   float64\n",
      " 19  generation_gwh_2014             7226 non-null   float64\n",
      " 20  generation_gwh_2015             8203 non-null   float64\n",
      " 21  generation_gwh_2016             9144 non-null   float64\n",
      " 22  generation_gwh_2017             9500 non-null   float64\n",
      " 23  generation_gwh_2018             9637 non-null   float64\n",
      " 24  generation_gwh_2019             9659 non-null   float64\n",
      " 25  generation_data_source          11400 non-null  object \n",
      " 26  estimated_generation_gwh_2013   16120 non-null  float64\n",
      " 27  estimated_generation_gwh_2014   16503 non-null  float64\n",
      " 28  estimated_generation_gwh_2015   17050 non-null  float64\n",
      " 29  estimated_generation_gwh_2016   17570 non-null  float64\n",
      " 30  estimated_generation_gwh_2017   33138 non-null  float64\n",
      " 31  estimated_generation_note_2013  34936 non-null  object \n",
      " 32  estimated_generation_note_2014  34936 non-null  object \n",
      " 33  estimated_generation_note_2015  34936 non-null  object \n",
      " 34  estimated_generation_note_2016  34936 non-null  object \n",
      " 35  estimated_generation_note_2017  34936 non-null  object \n",
      "dtypes: float64(17), object(19)\n",
      "memory usage: 9.6+ MB\n"
     ]
    },
    {
     "name": "stderr",
     "output_type": "stream",
     "text": [
      "/var/folders/m4/wnsg8j512jx1xdm7bt74w6sh0000gn/T/ipykernel_41548/870658498.py:2: DtypeWarning: Columns (10) have mixed types. Specify dtype option on import or set low_memory=False.\n",
      "  power = pd.read_csv('global_power_plant_database.csv')\n"
     ]
    },
    {
     "data": {
      "text/html": [
       "<div>\n",
       "<style scoped>\n",
       "    .dataframe tbody tr th:only-of-type {\n",
       "        vertical-align: middle;\n",
       "    }\n",
       "\n",
       "    .dataframe tbody tr th {\n",
       "        vertical-align: top;\n",
       "    }\n",
       "\n",
       "    .dataframe thead th {\n",
       "        text-align: right;\n",
       "    }\n",
       "</style>\n",
       "<table border=\"1\" class=\"dataframe\">\n",
       "  <thead>\n",
       "    <tr style=\"text-align: right;\">\n",
       "      <th></th>\n",
       "      <th>country</th>\n",
       "      <th>country_long</th>\n",
       "      <th>name</th>\n",
       "      <th>gppd_idnr</th>\n",
       "      <th>capacity_mw</th>\n",
       "      <th>latitude</th>\n",
       "      <th>longitude</th>\n",
       "      <th>primary_fuel</th>\n",
       "      <th>other_fuel1</th>\n",
       "      <th>other_fuel2</th>\n",
       "      <th>...</th>\n",
       "      <th>estimated_generation_gwh_2013</th>\n",
       "      <th>estimated_generation_gwh_2014</th>\n",
       "      <th>estimated_generation_gwh_2015</th>\n",
       "      <th>estimated_generation_gwh_2016</th>\n",
       "      <th>estimated_generation_gwh_2017</th>\n",
       "      <th>estimated_generation_note_2013</th>\n",
       "      <th>estimated_generation_note_2014</th>\n",
       "      <th>estimated_generation_note_2015</th>\n",
       "      <th>estimated_generation_note_2016</th>\n",
       "      <th>estimated_generation_note_2017</th>\n",
       "    </tr>\n",
       "  </thead>\n",
       "  <tbody>\n",
       "    <tr>\n",
       "      <th>0</th>\n",
       "      <td>AFG</td>\n",
       "      <td>Afghanistan</td>\n",
       "      <td>Kajaki Hydroelectric Power Plant Afghanistan</td>\n",
       "      <td>GEODB0040538</td>\n",
       "      <td>33.0</td>\n",
       "      <td>32.322</td>\n",
       "      <td>65.1190</td>\n",
       "      <td>Hydro</td>\n",
       "      <td>NaN</td>\n",
       "      <td>NaN</td>\n",
       "      <td>...</td>\n",
       "      <td>123.77</td>\n",
       "      <td>162.90</td>\n",
       "      <td>97.39</td>\n",
       "      <td>137.76</td>\n",
       "      <td>119.50</td>\n",
       "      <td>HYDRO-V1</td>\n",
       "      <td>HYDRO-V1</td>\n",
       "      <td>HYDRO-V1</td>\n",
       "      <td>HYDRO-V1</td>\n",
       "      <td>HYDRO-V1</td>\n",
       "    </tr>\n",
       "    <tr>\n",
       "      <th>1</th>\n",
       "      <td>AFG</td>\n",
       "      <td>Afghanistan</td>\n",
       "      <td>Kandahar DOG</td>\n",
       "      <td>WKS0070144</td>\n",
       "      <td>10.0</td>\n",
       "      <td>31.670</td>\n",
       "      <td>65.7950</td>\n",
       "      <td>Solar</td>\n",
       "      <td>NaN</td>\n",
       "      <td>NaN</td>\n",
       "      <td>...</td>\n",
       "      <td>18.43</td>\n",
       "      <td>17.48</td>\n",
       "      <td>18.25</td>\n",
       "      <td>17.70</td>\n",
       "      <td>18.29</td>\n",
       "      <td>SOLAR-V1-NO-AGE</td>\n",
       "      <td>SOLAR-V1-NO-AGE</td>\n",
       "      <td>SOLAR-V1-NO-AGE</td>\n",
       "      <td>SOLAR-V1-NO-AGE</td>\n",
       "      <td>SOLAR-V1-NO-AGE</td>\n",
       "    </tr>\n",
       "    <tr>\n",
       "      <th>2</th>\n",
       "      <td>AFG</td>\n",
       "      <td>Afghanistan</td>\n",
       "      <td>Kandahar JOL</td>\n",
       "      <td>WKS0071196</td>\n",
       "      <td>10.0</td>\n",
       "      <td>31.623</td>\n",
       "      <td>65.7920</td>\n",
       "      <td>Solar</td>\n",
       "      <td>NaN</td>\n",
       "      <td>NaN</td>\n",
       "      <td>...</td>\n",
       "      <td>18.64</td>\n",
       "      <td>17.58</td>\n",
       "      <td>19.10</td>\n",
       "      <td>17.62</td>\n",
       "      <td>18.72</td>\n",
       "      <td>SOLAR-V1-NO-AGE</td>\n",
       "      <td>SOLAR-V1-NO-AGE</td>\n",
       "      <td>SOLAR-V1-NO-AGE</td>\n",
       "      <td>SOLAR-V1-NO-AGE</td>\n",
       "      <td>SOLAR-V1-NO-AGE</td>\n",
       "    </tr>\n",
       "    <tr>\n",
       "      <th>3</th>\n",
       "      <td>AFG</td>\n",
       "      <td>Afghanistan</td>\n",
       "      <td>Mahipar Hydroelectric Power Plant Afghanistan</td>\n",
       "      <td>GEODB0040541</td>\n",
       "      <td>66.0</td>\n",
       "      <td>34.556</td>\n",
       "      <td>69.4787</td>\n",
       "      <td>Hydro</td>\n",
       "      <td>NaN</td>\n",
       "      <td>NaN</td>\n",
       "      <td>...</td>\n",
       "      <td>225.06</td>\n",
       "      <td>203.55</td>\n",
       "      <td>146.90</td>\n",
       "      <td>230.18</td>\n",
       "      <td>174.91</td>\n",
       "      <td>HYDRO-V1</td>\n",
       "      <td>HYDRO-V1</td>\n",
       "      <td>HYDRO-V1</td>\n",
       "      <td>HYDRO-V1</td>\n",
       "      <td>HYDRO-V1</td>\n",
       "    </tr>\n",
       "    <tr>\n",
       "      <th>4</th>\n",
       "      <td>AFG</td>\n",
       "      <td>Afghanistan</td>\n",
       "      <td>Naghlu Dam Hydroelectric Power Plant Afghanistan</td>\n",
       "      <td>GEODB0040534</td>\n",
       "      <td>100.0</td>\n",
       "      <td>34.641</td>\n",
       "      <td>69.7170</td>\n",
       "      <td>Hydro</td>\n",
       "      <td>NaN</td>\n",
       "      <td>NaN</td>\n",
       "      <td>...</td>\n",
       "      <td>406.16</td>\n",
       "      <td>357.22</td>\n",
       "      <td>270.99</td>\n",
       "      <td>395.38</td>\n",
       "      <td>350.80</td>\n",
       "      <td>HYDRO-V1</td>\n",
       "      <td>HYDRO-V1</td>\n",
       "      <td>HYDRO-V1</td>\n",
       "      <td>HYDRO-V1</td>\n",
       "      <td>HYDRO-V1</td>\n",
       "    </tr>\n",
       "  </tbody>\n",
       "</table>\n",
       "<p>5 rows × 36 columns</p>\n",
       "</div>"
      ],
      "text/plain": [
       "  country country_long                                              name  \\\n",
       "0     AFG  Afghanistan      Kajaki Hydroelectric Power Plant Afghanistan   \n",
       "1     AFG  Afghanistan                                      Kandahar DOG   \n",
       "2     AFG  Afghanistan                                      Kandahar JOL   \n",
       "3     AFG  Afghanistan     Mahipar Hydroelectric Power Plant Afghanistan   \n",
       "4     AFG  Afghanistan  Naghlu Dam Hydroelectric Power Plant Afghanistan   \n",
       "\n",
       "      gppd_idnr  capacity_mw  latitude  longitude primary_fuel other_fuel1  \\\n",
       "0  GEODB0040538         33.0    32.322    65.1190        Hydro         NaN   \n",
       "1    WKS0070144         10.0    31.670    65.7950        Solar         NaN   \n",
       "2    WKS0071196         10.0    31.623    65.7920        Solar         NaN   \n",
       "3  GEODB0040541         66.0    34.556    69.4787        Hydro         NaN   \n",
       "4  GEODB0040534        100.0    34.641    69.7170        Hydro         NaN   \n",
       "\n",
       "  other_fuel2  ... estimated_generation_gwh_2013  \\\n",
       "0         NaN  ...                        123.77   \n",
       "1         NaN  ...                         18.43   \n",
       "2         NaN  ...                         18.64   \n",
       "3         NaN  ...                        225.06   \n",
       "4         NaN  ...                        406.16   \n",
       "\n",
       "   estimated_generation_gwh_2014 estimated_generation_gwh_2015  \\\n",
       "0                         162.90                         97.39   \n",
       "1                          17.48                         18.25   \n",
       "2                          17.58                         19.10   \n",
       "3                         203.55                        146.90   \n",
       "4                         357.22                        270.99   \n",
       "\n",
       "  estimated_generation_gwh_2016 estimated_generation_gwh_2017  \\\n",
       "0                        137.76                        119.50   \n",
       "1                         17.70                         18.29   \n",
       "2                         17.62                         18.72   \n",
       "3                        230.18                        174.91   \n",
       "4                        395.38                        350.80   \n",
       "\n",
       "  estimated_generation_note_2013 estimated_generation_note_2014  \\\n",
       "0                       HYDRO-V1                       HYDRO-V1   \n",
       "1                SOLAR-V1-NO-AGE                SOLAR-V1-NO-AGE   \n",
       "2                SOLAR-V1-NO-AGE                SOLAR-V1-NO-AGE   \n",
       "3                       HYDRO-V1                       HYDRO-V1   \n",
       "4                       HYDRO-V1                       HYDRO-V1   \n",
       "\n",
       "   estimated_generation_note_2015  estimated_generation_note_2016  \\\n",
       "0                        HYDRO-V1                        HYDRO-V1   \n",
       "1                 SOLAR-V1-NO-AGE                 SOLAR-V1-NO-AGE   \n",
       "2                 SOLAR-V1-NO-AGE                 SOLAR-V1-NO-AGE   \n",
       "3                        HYDRO-V1                        HYDRO-V1   \n",
       "4                        HYDRO-V1                        HYDRO-V1   \n",
       "\n",
       "   estimated_generation_note_2017  \n",
       "0                        HYDRO-V1  \n",
       "1                 SOLAR-V1-NO-AGE  \n",
       "2                 SOLAR-V1-NO-AGE  \n",
       "3                        HYDRO-V1  \n",
       "4                        HYDRO-V1  \n",
       "\n",
       "[5 rows x 36 columns]"
      ]
     },
     "execution_count": 154,
     "metadata": {},
     "output_type": "execute_result"
    }
   ],
   "source": [
    "import pandas as pd\n",
    "power = pd.read_csv('global_power_plant_database.csv')\n",
    "power.info()\n",
    "power.head()"
   ]
  },
  {
   "cell_type": "markdown",
   "id": "3dbbdbcc",
   "metadata": {},
   "source": [
    "### Observations:\n",
    "- There are over 34,000 data entries\n",
    "- We do have many rows with missing data. \n",
    "- Data types that exist do appear correct."
   ]
  },
  {
   "cell_type": "markdown",
   "id": "bb6ca1c8",
   "metadata": {},
   "source": [
    "## Trim down our data set\n",
    "\n",
    "This is an extremely large dataset. To make it a slightly more managable, we are going to drop some columns. Columns to be dropped are:\n",
    "- country (We have the country_long value to go off of)\n",
    "- url, geolocation_source, gppd_idnr, lat, long, estimated generation notes and wepp_id.\n",
    "- other_fuel1 - 3. We are looking at the primary fuel for these questions"
   ]
  },
  {
   "cell_type": "code",
   "execution_count": 155,
   "id": "87712bd5",
   "metadata": {},
   "outputs": [
    {
     "name": "stdout",
     "output_type": "stream",
     "text": [
      "<class 'pandas.core.frame.DataFrame'>\n",
      "RangeIndex: 34936 entries, 0 to 34935\n",
      "Data columns (total 21 columns):\n",
      " #   Column                         Non-Null Count  Dtype  \n",
      "---  ------                         --------------  -----  \n",
      " 0   country_long                   34936 non-null  object \n",
      " 1   name                           34936 non-null  object \n",
      " 2   capacity_mw                    34936 non-null  float64\n",
      " 3   primary_fuel                   34936 non-null  object \n",
      " 4   commissioning_year             17447 non-null  float64\n",
      " 5   owner                          20868 non-null  object \n",
      " 6   source                         34921 non-null  object \n",
      " 7   year_of_capacity_data          14887 non-null  float64\n",
      " 8   generation_gwh_2013            6417 non-null   float64\n",
      " 9   generation_gwh_2014            7226 non-null   float64\n",
      " 10  generation_gwh_2015            8203 non-null   float64\n",
      " 11  generation_gwh_2016            9144 non-null   float64\n",
      " 12  generation_gwh_2017            9500 non-null   float64\n",
      " 13  generation_gwh_2018            9637 non-null   float64\n",
      " 14  generation_gwh_2019            9659 non-null   float64\n",
      " 15  generation_data_source         11400 non-null  object \n",
      " 16  estimated_generation_gwh_2013  16120 non-null  float64\n",
      " 17  estimated_generation_gwh_2014  16503 non-null  float64\n",
      " 18  estimated_generation_gwh_2015  17050 non-null  float64\n",
      " 19  estimated_generation_gwh_2016  17570 non-null  float64\n",
      " 20  estimated_generation_gwh_2017  33138 non-null  float64\n",
      "dtypes: float64(15), object(6)\n",
      "memory usage: 5.6+ MB\n"
     ]
    },
    {
     "data": {
      "text/html": [
       "<div>\n",
       "<style scoped>\n",
       "    .dataframe tbody tr th:only-of-type {\n",
       "        vertical-align: middle;\n",
       "    }\n",
       "\n",
       "    .dataframe tbody tr th {\n",
       "        vertical-align: top;\n",
       "    }\n",
       "\n",
       "    .dataframe thead th {\n",
       "        text-align: right;\n",
       "    }\n",
       "</style>\n",
       "<table border=\"1\" class=\"dataframe\">\n",
       "  <thead>\n",
       "    <tr style=\"text-align: right;\">\n",
       "      <th></th>\n",
       "      <th>country_long</th>\n",
       "      <th>name</th>\n",
       "      <th>capacity_mw</th>\n",
       "      <th>primary_fuel</th>\n",
       "      <th>commissioning_year</th>\n",
       "      <th>owner</th>\n",
       "      <th>source</th>\n",
       "      <th>year_of_capacity_data</th>\n",
       "      <th>generation_gwh_2013</th>\n",
       "      <th>generation_gwh_2014</th>\n",
       "      <th>...</th>\n",
       "      <th>generation_gwh_2016</th>\n",
       "      <th>generation_gwh_2017</th>\n",
       "      <th>generation_gwh_2018</th>\n",
       "      <th>generation_gwh_2019</th>\n",
       "      <th>generation_data_source</th>\n",
       "      <th>estimated_generation_gwh_2013</th>\n",
       "      <th>estimated_generation_gwh_2014</th>\n",
       "      <th>estimated_generation_gwh_2015</th>\n",
       "      <th>estimated_generation_gwh_2016</th>\n",
       "      <th>estimated_generation_gwh_2017</th>\n",
       "    </tr>\n",
       "  </thead>\n",
       "  <tbody>\n",
       "    <tr>\n",
       "      <th>0</th>\n",
       "      <td>Afghanistan</td>\n",
       "      <td>Kajaki Hydroelectric Power Plant Afghanistan</td>\n",
       "      <td>33.0</td>\n",
       "      <td>Hydro</td>\n",
       "      <td>NaN</td>\n",
       "      <td>NaN</td>\n",
       "      <td>GEODB</td>\n",
       "      <td>2017.0</td>\n",
       "      <td>NaN</td>\n",
       "      <td>NaN</td>\n",
       "      <td>...</td>\n",
       "      <td>NaN</td>\n",
       "      <td>NaN</td>\n",
       "      <td>NaN</td>\n",
       "      <td>NaN</td>\n",
       "      <td>NaN</td>\n",
       "      <td>123.77</td>\n",
       "      <td>162.90</td>\n",
       "      <td>97.39</td>\n",
       "      <td>137.76</td>\n",
       "      <td>119.50</td>\n",
       "    </tr>\n",
       "    <tr>\n",
       "      <th>1</th>\n",
       "      <td>Afghanistan</td>\n",
       "      <td>Kandahar DOG</td>\n",
       "      <td>10.0</td>\n",
       "      <td>Solar</td>\n",
       "      <td>NaN</td>\n",
       "      <td>NaN</td>\n",
       "      <td>Wiki-Solar</td>\n",
       "      <td>NaN</td>\n",
       "      <td>NaN</td>\n",
       "      <td>NaN</td>\n",
       "      <td>...</td>\n",
       "      <td>NaN</td>\n",
       "      <td>NaN</td>\n",
       "      <td>NaN</td>\n",
       "      <td>NaN</td>\n",
       "      <td>NaN</td>\n",
       "      <td>18.43</td>\n",
       "      <td>17.48</td>\n",
       "      <td>18.25</td>\n",
       "      <td>17.70</td>\n",
       "      <td>18.29</td>\n",
       "    </tr>\n",
       "    <tr>\n",
       "      <th>2</th>\n",
       "      <td>Afghanistan</td>\n",
       "      <td>Kandahar JOL</td>\n",
       "      <td>10.0</td>\n",
       "      <td>Solar</td>\n",
       "      <td>NaN</td>\n",
       "      <td>NaN</td>\n",
       "      <td>Wiki-Solar</td>\n",
       "      <td>NaN</td>\n",
       "      <td>NaN</td>\n",
       "      <td>NaN</td>\n",
       "      <td>...</td>\n",
       "      <td>NaN</td>\n",
       "      <td>NaN</td>\n",
       "      <td>NaN</td>\n",
       "      <td>NaN</td>\n",
       "      <td>NaN</td>\n",
       "      <td>18.64</td>\n",
       "      <td>17.58</td>\n",
       "      <td>19.10</td>\n",
       "      <td>17.62</td>\n",
       "      <td>18.72</td>\n",
       "    </tr>\n",
       "    <tr>\n",
       "      <th>3</th>\n",
       "      <td>Afghanistan</td>\n",
       "      <td>Mahipar Hydroelectric Power Plant Afghanistan</td>\n",
       "      <td>66.0</td>\n",
       "      <td>Hydro</td>\n",
       "      <td>NaN</td>\n",
       "      <td>NaN</td>\n",
       "      <td>GEODB</td>\n",
       "      <td>2017.0</td>\n",
       "      <td>NaN</td>\n",
       "      <td>NaN</td>\n",
       "      <td>...</td>\n",
       "      <td>NaN</td>\n",
       "      <td>NaN</td>\n",
       "      <td>NaN</td>\n",
       "      <td>NaN</td>\n",
       "      <td>NaN</td>\n",
       "      <td>225.06</td>\n",
       "      <td>203.55</td>\n",
       "      <td>146.90</td>\n",
       "      <td>230.18</td>\n",
       "      <td>174.91</td>\n",
       "    </tr>\n",
       "    <tr>\n",
       "      <th>4</th>\n",
       "      <td>Afghanistan</td>\n",
       "      <td>Naghlu Dam Hydroelectric Power Plant Afghanistan</td>\n",
       "      <td>100.0</td>\n",
       "      <td>Hydro</td>\n",
       "      <td>NaN</td>\n",
       "      <td>NaN</td>\n",
       "      <td>GEODB</td>\n",
       "      <td>2017.0</td>\n",
       "      <td>NaN</td>\n",
       "      <td>NaN</td>\n",
       "      <td>...</td>\n",
       "      <td>NaN</td>\n",
       "      <td>NaN</td>\n",
       "      <td>NaN</td>\n",
       "      <td>NaN</td>\n",
       "      <td>NaN</td>\n",
       "      <td>406.16</td>\n",
       "      <td>357.22</td>\n",
       "      <td>270.99</td>\n",
       "      <td>395.38</td>\n",
       "      <td>350.80</td>\n",
       "    </tr>\n",
       "  </tbody>\n",
       "</table>\n",
       "<p>5 rows × 21 columns</p>\n",
       "</div>"
      ],
      "text/plain": [
       "  country_long                                              name  capacity_mw  \\\n",
       "0  Afghanistan      Kajaki Hydroelectric Power Plant Afghanistan         33.0   \n",
       "1  Afghanistan                                      Kandahar DOG         10.0   \n",
       "2  Afghanistan                                      Kandahar JOL         10.0   \n",
       "3  Afghanistan     Mahipar Hydroelectric Power Plant Afghanistan         66.0   \n",
       "4  Afghanistan  Naghlu Dam Hydroelectric Power Plant Afghanistan        100.0   \n",
       "\n",
       "  primary_fuel  commissioning_year owner      source  year_of_capacity_data  \\\n",
       "0        Hydro                 NaN   NaN       GEODB                 2017.0   \n",
       "1        Solar                 NaN   NaN  Wiki-Solar                    NaN   \n",
       "2        Solar                 NaN   NaN  Wiki-Solar                    NaN   \n",
       "3        Hydro                 NaN   NaN       GEODB                 2017.0   \n",
       "4        Hydro                 NaN   NaN       GEODB                 2017.0   \n",
       "\n",
       "   generation_gwh_2013  generation_gwh_2014  ...  generation_gwh_2016  \\\n",
       "0                  NaN                  NaN  ...                  NaN   \n",
       "1                  NaN                  NaN  ...                  NaN   \n",
       "2                  NaN                  NaN  ...                  NaN   \n",
       "3                  NaN                  NaN  ...                  NaN   \n",
       "4                  NaN                  NaN  ...                  NaN   \n",
       "\n",
       "   generation_gwh_2017  generation_gwh_2018  generation_gwh_2019  \\\n",
       "0                  NaN                  NaN                  NaN   \n",
       "1                  NaN                  NaN                  NaN   \n",
       "2                  NaN                  NaN                  NaN   \n",
       "3                  NaN                  NaN                  NaN   \n",
       "4                  NaN                  NaN                  NaN   \n",
       "\n",
       "   generation_data_source estimated_generation_gwh_2013  \\\n",
       "0                     NaN                        123.77   \n",
       "1                     NaN                         18.43   \n",
       "2                     NaN                         18.64   \n",
       "3                     NaN                        225.06   \n",
       "4                     NaN                        406.16   \n",
       "\n",
       "   estimated_generation_gwh_2014  estimated_generation_gwh_2015  \\\n",
       "0                         162.90                          97.39   \n",
       "1                          17.48                          18.25   \n",
       "2                          17.58                          19.10   \n",
       "3                         203.55                         146.90   \n",
       "4                         357.22                         270.99   \n",
       "\n",
       "   estimated_generation_gwh_2016  estimated_generation_gwh_2017  \n",
       "0                         137.76                         119.50  \n",
       "1                          17.70                          18.29  \n",
       "2                          17.62                          18.72  \n",
       "3                         230.18                         174.91  \n",
       "4                         395.38                         350.80  \n",
       "\n",
       "[5 rows x 21 columns]"
      ]
     },
     "execution_count": 155,
     "metadata": {},
     "output_type": "execute_result"
    }
   ],
   "source": [
    "drop_columns = ['country', 'url', 'geolocation_source', 'wepp_id', 'other_fuel1', 'other_fuel2', 'other_fuel3', 'gppd_idnr', 'latitude', 'longitude', 'estimated_generation_note_2013', 'estimated_generation_note_2014', 'estimated_generation_note_2015', 'estimated_generation_note_2016', 'estimated_generation_note_2017']\n",
    "power = power.drop(labels=drop_columns, axis=1)\n",
    "power.info()\n",
    "power.head()"
   ]
  },
  {
   "cell_type": "markdown",
   "id": "6f5963ee",
   "metadata": {},
   "source": [
    "## What are the countries with the most amount of power plants and the least amount of power plants? "
   ]
  },
  {
   "cell_type": "code",
   "execution_count": 156,
   "id": "d972f4d0",
   "metadata": {},
   "outputs": [
    {
     "data": {
      "text/plain": [
       "country_long\n",
       "United States of America    9833\n",
       "China                       4235\n",
       "United Kingdom              2751\n",
       "Brazil                      2360\n",
       "France                      2155\n",
       "                            ... \n",
       "Lesotho                        1\n",
       "Western Sahara                 1\n",
       "Suriname                       1\n",
       "Palestine                      1\n",
       "Guinea-Bissau                  1\n",
       "Name: count, Length: 167, dtype: int64"
      ]
     },
     "execution_count": 156,
     "metadata": {},
     "output_type": "execute_result"
    }
   ],
   "source": [
    "power.value_counts('country_long')"
   ]
  },
  {
   "cell_type": "code",
   "execution_count": 157,
   "id": "69316674",
   "metadata": {},
   "outputs": [
    {
     "data": {
      "text/plain": [
       "count                        34936\n",
       "unique                         167\n",
       "top       United States of America\n",
       "freq                          9833\n",
       "Name: country_long, dtype: object"
      ]
     },
     "execution_count": 157,
     "metadata": {},
     "output_type": "execute_result"
    }
   ],
   "source": [
    "power['country_long'].describe()"
   ]
  },
  {
   "cell_type": "markdown",
   "id": "42b21ae2",
   "metadata": {},
   "source": [
    "#### Here, we see a obvious correlation between the number of power plants and the GDP or wealth of a given country. In the above data, we see the United States has the most power plants while developing countries such as Palestine and Guniea-Bissau have 1. "
   ]
  },
  {
   "cell_type": "markdown",
   "id": "c46a5506",
   "metadata": {},
   "source": [
    "## What is the most popular fuel type?\n",
    "\n",
    "We will analyze the most popular fuel type globally. We will also look at the top three countries and see what observations can be made."
   ]
  },
  {
   "cell_type": "code",
   "execution_count": 158,
   "id": "53fa2430",
   "metadata": {},
   "outputs": [
    {
     "data": {
      "text/plain": [
       "primary_fuel\n",
       "Solar             10665\n",
       "Hydro              7156\n",
       "Wind               5344\n",
       "Gas                3998\n",
       "Coal               2330\n",
       "Oil                2320\n",
       "Biomass            1430\n",
       "Waste              1068\n",
       "Nuclear             195\n",
       "Geothermal          189\n",
       "Storage             135\n",
       "Other                43\n",
       "Cogeneration         41\n",
       "Petcoke              12\n",
       "Wave and Tidal       10\n",
       "Name: count, dtype: int64"
      ]
     },
     "execution_count": 158,
     "metadata": {},
     "output_type": "execute_result"
    }
   ],
   "source": [
    "power.value_counts('primary_fuel')"
   ]
  },
  {
   "cell_type": "code",
   "execution_count": 159,
   "id": "ff00993c",
   "metadata": {},
   "outputs": [
    {
     "data": {
      "text/plain": [
       "primary_fuel\n",
       "Solar           3283\n",
       "Gas             1818\n",
       "Hydro           1449\n",
       "Wind            1139\n",
       "Oil              876\n",
       "Waste            541\n",
       "Coal             286\n",
       "Biomass          153\n",
       "Storage          104\n",
       "Geothermal        65\n",
       "Nuclear           58\n",
       "Cogeneration      34\n",
       "Other             16\n",
       "Petcoke           11\n",
       "Name: count, dtype: int64"
      ]
     },
     "execution_count": 159,
     "metadata": {},
     "output_type": "execute_result"
    }
   ],
   "source": [
    "usa = power['country_long'] == \"United States of America\"\n",
    "power[usa].value_counts('primary_fuel')"
   ]
  },
  {
   "cell_type": "code",
   "execution_count": 160,
   "id": "f4b5d022",
   "metadata": {},
   "outputs": [
    {
     "data": {
      "text/plain": [
       "primary_fuel\n",
       "Solar         1318\n",
       "Hydro          947\n",
       "Coal           946\n",
       "Wind           835\n",
       "Gas            170\n",
       "Nuclear         12\n",
       "Oil              5\n",
       "Geothermal       2\n",
       "Name: count, dtype: int64"
      ]
     },
     "execution_count": 160,
     "metadata": {},
     "output_type": "execute_result"
    }
   ],
   "source": [
    "china = power['country_long'] == \"China\"\n",
    "power[china].value_counts('primary_fuel')"
   ]
  },
  {
   "cell_type": "code",
   "execution_count": 161,
   "id": "4c10f663",
   "metadata": {},
   "outputs": [
    {
     "data": {
      "text/plain": [
       "primary_fuel\n",
       "Solar             1170\n",
       "Wind               780\n",
       "Waste              329\n",
       "Biomass            226\n",
       "Hydro              119\n",
       "Gas                 55\n",
       "Storage             31\n",
       "Oil                 11\n",
       "Coal                 8\n",
       "Nuclear              8\n",
       "Cogeneration         7\n",
       "Wave and Tidal       7\n",
       "Name: count, dtype: int64"
      ]
     },
     "execution_count": 161,
     "metadata": {},
     "output_type": "execute_result"
    }
   ],
   "source": [
    "uk = power['country_long'] == \"United Kingdom\"\n",
    "power[uk].value_counts('primary_fuel')"
   ]
  },
  {
   "cell_type": "markdown",
   "id": "e7f6d224",
   "metadata": {},
   "source": [
    "#### Overall, solar energy is the most popular primary_fuel. However, when we look at the top three countries, we see China has an outsized dependency on coal as a primary fuel source relative to the United States and United Kingdom."
   ]
  },
  {
   "cell_type": "markdown",
   "id": "33022849",
   "metadata": {},
   "source": [
    "## Looking at comissioning year data, how has the fuel type changed over the years?"
   ]
  },
  {
   "cell_type": "raw",
   "id": "ac60f8f9",
   "metadata": {},
   "source": [
    "Primary fuel in the year 2000"
   ]
  },
  {
   "cell_type": "code",
   "execution_count": 162,
   "id": "88720d73",
   "metadata": {},
   "outputs": [
    {
     "data": {
      "text/plain": [
       "primary_fuel\n",
       "Gas           74\n",
       "Coal          42\n",
       "Oil           38\n",
       "Wind          30\n",
       "Hydro         25\n",
       "Biomass       10\n",
       "Waste          7\n",
       "Geothermal     5\n",
       "Nuclear        2\n",
       "Other          1\n",
       "Name: count, dtype: int64"
      ]
     },
     "execution_count": 162,
     "metadata": {},
     "output_type": "execute_result"
    }
   ],
   "source": [
    "power[power['commissioning_year'] == 2000.000000].value_counts('primary_fuel')"
   ]
  },
  {
   "cell_type": "markdown",
   "id": "cca0293f",
   "metadata": {},
   "source": [
    "Contrasted with primary fuel in the year 2017"
   ]
  },
  {
   "cell_type": "code",
   "execution_count": 163,
   "id": "44fe2899",
   "metadata": {},
   "outputs": [
    {
     "data": {
      "text/plain": [
       "primary_fuel\n",
       "Solar         474\n",
       "Gas            49\n",
       "Wind           40\n",
       "Coal           14\n",
       "Storage        10\n",
       "Oil             7\n",
       "Hydro           4\n",
       "Waste           4\n",
       "Biomass         3\n",
       "Geothermal      1\n",
       "Other           1\n",
       "Name: count, dtype: int64"
      ]
     },
     "execution_count": 163,
     "metadata": {},
     "output_type": "execute_result"
    }
   ],
   "source": [
    "power[power['commissioning_year'] == 2018.000000].value_counts('primary_fuel')"
   ]
  },
  {
   "cell_type": "code",
   "execution_count": 164,
   "id": "1a33ffc1",
   "metadata": {},
   "outputs": [
    {
     "data": {
      "text/plain": [
       "commissioning_year\n",
       "2017.000000    507\n",
       "2018.000000    470\n",
       "2019.000000    458\n",
       "2016.000000    424\n",
       "2014.000000    307\n",
       "              ... \n",
       "2013.500000      1\n",
       "2013.514286      1\n",
       "2013.520396      1\n",
       "2013.608696      1\n",
       "2013.363636      1\n",
       "Name: count, Length: 85, dtype: int64"
      ]
     },
     "execution_count": 164,
     "metadata": {},
     "output_type": "execute_result"
    }
   ],
   "source": [
    "solar = power['primary_fuel'] == 'Solar'\n",
    "year = power['commissioning_year'] == 2017.000000\n",
    "cntry = power['country_long'] == 'United States of America'\n",
    "\n",
    "\n",
    "#power[year & cntry].sort_values(by='primary_fuel', ascending=False)\n",
    "power[solar & cntry].value_counts('commissioning_year')"
   ]
  },
  {
   "cell_type": "code",
   "execution_count": 165,
   "id": "6274484c",
   "metadata": {},
   "outputs": [
    {
     "data": {
      "text/plain": [
       "50600.0"
      ]
     },
     "execution_count": 165,
     "metadata": {},
     "output_type": "execute_result"
    }
   ],
   "source": [
    "solar_percent_change = (507 - 1) / 1 * 100\n",
    "solar_percent_change"
   ]
  },
  {
   "cell_type": "markdown",
   "id": "421cdda1",
   "metadata": {},
   "source": [
    "# Conclusions:\n",
    "\n",
    "### Developed nations versus developing nations:\n",
    "As we might expect, developed nations have the most power plants while poorer, developing nations have the least amount of poewr plants\n",
    "\n",
    "\n",
    "### The most popular fuel type:\n",
    "Surprisingly, the most popular fuel type globally is solar. And in the top three countries according to number of power plants, solar is also the most popular. This is a great encouragement for the future of renewable energy and the environment. In the United States alone, we see a 50,600% growth in solar commissionings between the years of 2013 and 2017.\n",
    "\n",
    "However, for all of the good data we see, China's continued reliance on coal energy must be mentioned.\n",
    "\n",
    "\n",
    "### Changes over time:\n",
    "From the data, we see quite a lot has changed since as recently as 2000. In 2000, the top 3 fuel types were:\n",
    "- Gas (74)\n",
    "- Coal (42)\n",
    "- Oil (38)\n",
    "\n",
    "Contrast that with 2018 data where the top three types were:\n",
    "- Solar (474)\n",
    "- Gas (49)\n",
    "- Wind (40)"
   ]
  },
  {
   "cell_type": "code",
   "execution_count": null,
   "id": "5d64986d",
   "metadata": {},
   "outputs": [],
   "source": []
  }
 ],
 "metadata": {
  "kernelspec": {
   "display_name": "Python 3 (ipykernel)",
   "language": "python",
   "name": "python3"
  },
  "language_info": {
   "codemirror_mode": {
    "name": "ipython",
    "version": 3
   },
   "file_extension": ".py",
   "mimetype": "text/x-python",
   "name": "python",
   "nbconvert_exporter": "python",
   "pygments_lexer": "ipython3",
   "version": "3.11.4"
  }
 },
 "nbformat": 4,
 "nbformat_minor": 5
}
